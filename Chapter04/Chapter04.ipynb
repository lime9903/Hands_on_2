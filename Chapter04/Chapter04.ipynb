{
 "cells": [
  {
   "cell_type": "code",
   "execution_count": 1,
   "id": "judicial-kruger",
   "metadata": {},
   "outputs": [],
   "source": [
    "import numpy as np\n",
    "\n",
    "X = 2 * np.random.rand(100, 1)  # Create 100*1 numpy array\n",
    "y = 4 + 3 * X + np.random.randn(100, 1)"
   ]
  },
  {
   "cell_type": "markdown",
   "id": "mounted-approach",
   "metadata": {},
   "source": [
    "* random.rand(): Create an array of the given shape and populate it with random samples from a uniform distribution over [0, 1).\n",
    "\n",
    "* random.randn(): Return a sample (or samples) from the \"standard normal\" (Gaussian) distribution."
   ]
  },
  {
   "cell_type": "code",
   "execution_count": 2,
   "id": "average-hearts",
   "metadata": {},
   "outputs": [
    {
     "data": {
      "image/png": "[encoded data removed]",
      "text/plain": [
       "<Figure size 432x288 with 1 Axes>"
      ]
     },
     "metadata": {
      "needs_background": "light"
     },
     "output_type": "display_data"
    }
   ],
   "source": [
    "import matplotlib.pyplot as plt\n",
    "\n",
    "plt.scatter(X, y, c='b', s=5)\n",
    "plt.xlabel(r'$x_1$', fontsize=14)\n",
    "plt.ylabel(r'$y$', fontsize=14)\n",
    "plt.title('Normal Equation')\n",
    "plt.show()"
   ]
  },
  {
   "cell_type": "code",
   "execution_count": 3,
   "id": "gross-wealth",
   "metadata": {},
   "outputs": [],
   "source": [
    "X_b = np.c_[np.ones((100, 1)), X]  # 모든 샘플에 x0 = 1을 추가\n",
    "theta_best = np.linalg.inv(X_b.T.dot(X_b)).dot(X_b.T).dot(y)"
   ]
  },
  {
   "cell_type": "code",
   "execution_count": 4,
   "id": "complex-birthday",
   "metadata": {},
   "outputs": [
    {
     "data": {
      "text/plain": [
       "((100, 2), (2, 1))"
      ]
     },
     "execution_count": 4,
     "metadata": {},
     "output_type": "execute_result"
    }
   ],
   "source": [
    "X_b.shape, theta_best.shape"
   ]
  },
  {
   "cell_type": "code",
   "execution_count": 5,
   "id": "alpha-truck",
   "metadata": {},
   "outputs": [
    {
     "data": {
      "text/plain": [
       "array([[3.73740783],\n",
       "       [3.07944845]])"
      ]
     },
     "execution_count": 5,
     "metadata": {},
     "output_type": "execute_result"
    }
   ],
   "source": [
    "theta_best"
   ]
  },
  {
   "cell_type": "markdown",
   "id": "lovely-dakota",
   "metadata": {},
   "source": [
    "## theta_best를 통해 예측해보기"
   ]
  },
  {
   "cell_type": "code",
   "execution_count": 6,
   "id": "wicked-excerpt",
   "metadata": {},
   "outputs": [],
   "source": [
    "X_new = np.array([[0], [2]])\n",
    "X_new_b = np.c_[np.ones((2, 1)), X_new]\n",
    "\n",
    "y_predict = X_new_b.dot(theta_best)"
   ]
  },
  {
   "cell_type": "code",
   "execution_count": 7,
   "id": "surgical-genre",
   "metadata": {},
   "outputs": [
    {
     "data": {
      "text/plain": [
       "array([[3.73740783],\n",
       "       [9.89630473]])"
      ]
     },
     "execution_count": 7,
     "metadata": {},
     "output_type": "execute_result"
    }
   ],
   "source": [
    "y_predict"
   ]
  },
  {
   "cell_type": "code",
   "execution_count": 8,
   "id": "attempted-colorado",
   "metadata": {},
   "outputs": [
    {
     "data": {
      "image/png": "[encoded data removed]",
      "text/plain": [
       "<Figure size 432x288 with 1 Axes>"
      ]
     },
     "metadata": {
      "needs_background": "light"
     },
     "output_type": "display_data"
    }
   ],
   "source": [
    "plt.plot(X_new, y_predict, \"r-\", label=\"predict\")\n",
    "plt.scatter(X, y, c=\"b\", s=7)\n",
    "plt.xlabel(r\"$x_1$\")\n",
    "plt.ylabel(r\"$y$\")\n",
    "plt.legend()\n",
    "plt.show()"
   ]
  },
  {
   "cell_type": "markdown",
   "id": "timely-event",
   "metadata": {},
   "source": [
    "sklearn 선형 회귀 수행"
   ]
  },
  {
   "cell_type": "code",
   "execution_count": 9,
   "id": "clean-consumption",
   "metadata": {},
   "outputs": [
    {
     "data": {
      "text/plain": [
       "LinearRegression()"
      ]
     },
     "execution_count": 9,
     "metadata": {},
     "output_type": "execute_result"
    }
   ],
   "source": [
    "from sklearn.linear_model import LinearRegression\n",
    "\n",
    "lin_reg = LinearRegression()\n",
    "lin_reg.fit(X, y)"
   ]
  },
  {
   "cell_type": "code",
   "execution_count": 10,
   "id": "private-charger",
   "metadata": {},
   "outputs": [
    {
     "data": {
      "text/plain": [
       "(array([3.73740783]), array([[3.07944845]]))"
      ]
     },
     "execution_count": 10,
     "metadata": {},
     "output_type": "execute_result"
    }
   ],
   "source": [
    "lin_reg.intercept_, lin_reg.coef_"
   ]
  },
  {
   "cell_type": "code",
   "execution_count": 11,
   "id": "ignored-worth",
   "metadata": {},
   "outputs": [
    {
     "data": {
      "text/plain": [
       "array([[3.73740783],\n",
       "       [9.89630473]])"
      ]
     },
     "execution_count": 11,
     "metadata": {},
     "output_type": "execute_result"
    }
   ],
   "source": [
    "lin_reg.predict(X_new)"
   ]
  },
  {
   "cell_type": "code",
   "execution_count": 12,
   "id": "twenty-society",
   "metadata": {},
   "outputs": [
    {
     "data": {
      "text/plain": [
       "array([[3.73740783],\n",
       "       [3.07944845]])"
      ]
     },
     "execution_count": 12,
     "metadata": {},
     "output_type": "execute_result"
    }
   ],
   "source": [
    "theta_best_svd, residuals, ranks, s = np.linalg.lstsq(X_b, y, rcond=1e-6)\n",
    "theta_best_svd"
   ]
  },
  {
   "cell_type": "code",
   "execution_count": 13,
   "id": "initial-margin",
   "metadata": {},
   "outputs": [
    {
     "data": {
      "text/plain": [
       "array([[3.73740783],\n",
       "       [3.07944845]])"
      ]
     },
     "execution_count": 13,
     "metadata": {},
     "output_type": "execute_result"
    }
   ],
   "source": [
    "np.linalg.pinv(X_b).dot(y)"
   ]
  },
  {
   "cell_type": "markdown",
   "id": "civilian-scope",
   "metadata": {},
   "source": [
    "### 정규방정식 Normal Equation\n",
    "#### $\\mathbf{\\hat \\theta} = (\\mathbf{X^T} \\cdot \\mathbf{X})^{-1} \\cdot \\mathbf{X^T} \\cdot \\mathbf{y}$\n",
    "\n",
    "### 유사역행렬 Pseudoinverse (또는 무어-펜로즈 역행렬 Moore-Penrose inverse)\n",
    "#### $\\mathbf{\\hat \\theta} = \\mathbf{X^+} \\cdot \\mathbf{y}$\n",
    "\n",
    "#### 정규방정식의 역행렬이 없다면 유사역행렬을 통해 theta 값을 구할 수 있다."
   ]
  },
  {
   "cell_type": "markdown",
   "id": "liquid-batch",
   "metadata": {},
   "source": [
    "***\n",
    "\n",
    "## 비용 함수 MSE를 이용한 경사하강법 (Gradient Descent)\n",
    "### 비용 함수 MSE\n",
    "###  $MSE(\\mathbf{\\theta}) = \\frac{1}{m} \\sum_{i=0}^m (\\mathbf{\\theta}^T \\cdot \\mathbf{x}^{(i)} - y^{(i)})^2$<br><br>\n",
    "### 비용 함수의 gradient vector\n",
    "### $\\bigtriangledown_{\\theta} MSE(\\mathbf{\\theta}) = \\frac{2}{m} \\mathbf{X}^T (\\mathbf{X} \\mathbf{\\theta} - \\mathbf{y})$<br><br>\n",
    "### 경사하강법의 step\n",
    "### $\\mathbf{\\theta}^{(next step)} = \\mathbf{\\theta} - \\eta \\bigtriangledown_{\\theta} MSE(\\mathbf{\\theta})$"
   ]
  },
  {
   "cell_type": "code",
   "execution_count": 14,
   "id": "irish-consolidation",
   "metadata": {},
   "outputs": [],
   "source": [
    "eta = 0.1  # learning rate\n",
    "n_iterations = 1000\n",
    "m = 100\n",
    "\n",
    "theta = np.random.randn(2, 1)  # random initialization\n",
    "\n",
    "for iteration in range(n_iterations):\n",
    "    gradients = 2 / m * X_b.T.dot(X_b.dot(theta) - y)\n",
    "    theta = theta - eta * gradients"
   ]
  },
  {
   "cell_type": "code",
   "execution_count": 15,
   "id": "progressive-douglas",
   "metadata": {},
   "outputs": [
    {
     "data": {
      "text/plain": [
       "array([[3.73740783],\n",
       "       [3.07944845]])"
      ]
     },
     "execution_count": 15,
     "metadata": {},
     "output_type": "execute_result"
    }
   ],
   "source": [
    "theta"
   ]
  },
  {
   "cell_type": "code",
   "execution_count": 24,
   "id": "announced-berry",
   "metadata": {},
   "outputs": [
    {
     "data": {
      "text/plain": [
       "array([[3.73740783],\n",
       "       [9.89630473]])"
      ]
     },
     "execution_count": 24,
     "metadata": {},
     "output_type": "execute_result"
    }
   ],
   "source": [
    "X_new_b.dot(theta)"
   ]
  },
  {
   "cell_type": "code",
   "execution_count": 30,
   "id": "greek-stanley",
   "metadata": {},
   "outputs": [
    {
     "data": {
      "image/png": "[encoded data removed]",
      "text/plain": [
       "<Figure size 720x288 with 3 Axes>"
      ]
     },
     "metadata": {
      "needs_background": "light"
     },
     "output_type": "display_data"
    }
   ],
   "source": [
    "theta_path_bgd = []\n",
    "\n",
    "def plot_gradient_descent(theta, eta, theta_path=None):\n",
    "    m = len(X_b)\n",
    "    plt.plot(X, y, \"b.\")\n",
    "    n_iterations = 1000\n",
    "    for iteration in range(n_iterations):\n",
    "        if iteration < 10:\n",
    "            y_predict = X_new_b.dot(theta)\n",
    "            style = \"b-\" if iteration > 0 else \"r--\"\n",
    "            plt.plot(X_new, y_predict, style)\n",
    "        gradients = 2 / m * X_b.T.dot(X_b.dot(theta) - y)\n",
    "        theta = theta - eta * gradients\n",
    "        if theta_path is not None:\n",
    "            theta_path.append(theta)\n",
    "    plt.xlabel('$x_1$', fontsize=12)\n",
    "    plt.axis([0, 2, 0, 15])\n",
    "    plt.title('$\\eta = {}$'.format(eta), fontsize=15)\n",
    "\n",
    "np.random.seed(42)\n",
    "theta = np.random.randn(2, 1)\n",
    "\n",
    "plt.figure(figsize=(10,4))\n",
    "plt.subplot(131)\n",
    "plot_gradient_descent(theta, eta=0.02)\n",
    "plt.ylabel('$y$', fontsize=12)\n",
    "\n",
    "plt.subplot(132)\n",
    "plot_gradient_descent(theta, eta=0.1, theta_path=theta_path_bgd)\n",
    "plt.xlabel('$x_1$', fontsize=12)\n",
    "\n",
    "plt.subplot(133)\n",
    "plot_gradient_descent(theta, eta=0.5)\n",
    "\n",
    "plt.show()"
   ]
  }
 ],
 "metadata": {
  "kernelspec": {
   "display_name": "Python 3",
   "language": "python",
   "name": "python3"
  },
  "language_info": {
   "codemirror_mode": {
    "name": "ipython",
    "version": 3
   },
   "file_extension": ".py",
   "mimetype": "text/x-python",
   "name": "python",
   "nbconvert_exporter": "python",
   "pygments_lexer": "ipython3",
   "version": "3.9.2"
  }
 },
 "nbformat": 4,
 "nbformat_minor": 5
}
